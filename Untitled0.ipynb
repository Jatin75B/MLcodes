{
  "nbformat": 4,
  "nbformat_minor": 0,
  "metadata": {
    "colab": {
      "provenance": [],
      "authorship_tag": "ABX9TyOUfDKUQR008wmPJ9HHWc38",
      "include_colab_link": true
    },
    "kernelspec": {
      "name": "python3",
      "display_name": "Python 3"
    },
    "language_info": {
      "name": "python"
    }
  },
  "cells": [
    {
      "cell_type": "markdown",
      "metadata": {
        "id": "view-in-github",
        "colab_type": "text"
      },
      "source": [
        "<a href=\"https://colab.research.google.com/github/Jatin75B/MLcodes/blob/main/Untitled0.ipynb\" target=\"_parent\"><img src=\"https://colab.research.google.com/assets/colab-badge.svg\" alt=\"Open In Colab\"/></a>"
      ]
    },
    {
      "cell_type": "code",
      "execution_count": null,
      "metadata": {
        "colab": {
          "base_uri": "https://localhost:8080/"
        },
        "id": "Hh3XuucfUqp7",
        "outputId": "d278d642-5512-4a24-ae8e-93f436a08d8c"
      },
      "outputs": [
        {
          "output_type": "stream",
          "name": "stdout",
          "text": [
            "175\n",
            "690\n"
          ]
        }
      ],
      "source": [
        "x =[10,15,20,25,30,35,40]\n",
        "y = [100,50,30,200,210,55,45]\n",
        "print(sum(x))\n",
        "print(sum(y))\n"
      ]
    },
    {
      "cell_type": "code",
      "source": [
        "import matplotlib.pyplot as plt\n",
        "import pandas as pd\n",
        "import numpy as np"
      ],
      "metadata": {
        "id": "gAq0UQkHVj1w"
      },
      "execution_count": null,
      "outputs": []
    },
    {
      "cell_type": "code",
      "source": [
        "plt.scatter(x,y)\n"
      ],
      "metadata": {
        "colab": {
          "base_uri": "https://localhost:8080/",
          "height": 283
        },
        "id": "pJUJJ_sCVs5E",
        "outputId": "642eedf3-0cab-489c-e1e6-5bcedd2d62da"
      },
      "execution_count": null,
      "outputs": [
        {
          "output_type": "execute_result",
          "data": {
            "text/plain": [
              "<matplotlib.collections.PathCollection at 0x7fb72c174fd0>"
            ]
          },
          "metadata": {},
          "execution_count": 6
        },
        {
          "output_type": "display_data",
          "data": {
            "text/plain": [
              "<Figure size 432x288 with 1 Axes>"
            ],
            "image/png": "[encoded data removed]"
          },
          "metadata": {
            "needs_background": "light"
          }
        }
      ]
    },
    {
      "cell_type": "code",
      "source": [
        "X = np.array(x).reshape(-1,1)\n",
        "Y = np.array(y).reshape(-1,1)"
      ],
      "metadata": {
        "id": "T-HspEHRWxib"
      },
      "execution_count": null,
      "outputs": []
    },
    {
      "cell_type": "code",
      "source": [
        "from sklearn.linear_model import LinearRegression\n",
        "reg = LinearRegression()\n",
        "\n",
        "reg.fit(X,Y)\n",
        "pred = reg.predict(X)\n",
        "\n",
        "plt.scatter(X,Y)\n",
        "plt.plot(X,pred)\n"
      ],
      "metadata": {
        "colab": {
          "base_uri": "https://localhost:8080/",
          "height": 455
        },
        "id": "31e-Yl47V-3Q",
        "outputId": "a0c5d1e7-293e-47ba-e2b7-6843679c721e"
      },
      "execution_count": null,
      "outputs": [
        {
          "output_type": "error",
          "ename": "TypeError",
          "evalue": "ignored",
          "traceback": [
            "\u001b[0;31m---------------------------------------------------------------------------\u001b[0m",
            "\u001b[0;31mTypeError\u001b[0m                                 Traceback (most recent call last)",
            "\u001b[0;32m<ipython-input-28-6ed273c98402>\u001b[0m in \u001b[0;36m<module>\u001b[0;34m\u001b[0m\n\u001b[1;32m      7\u001b[0m \u001b[0mplt\u001b[0m\u001b[0;34m.\u001b[0m\u001b[0mscatter\u001b[0m\u001b[0;34m(\u001b[0m\u001b[0mX\u001b[0m\u001b[0;34m,\u001b[0m\u001b[0mY\u001b[0m\u001b[0;34m)\u001b[0m\u001b[0;34m\u001b[0m\u001b[0;34m\u001b[0m\u001b[0m\n\u001b[1;32m      8\u001b[0m \u001b[0mplt\u001b[0m\u001b[0;34m.\u001b[0m\u001b[0mplot\u001b[0m\u001b[0;34m(\u001b[0m\u001b[0mX\u001b[0m\u001b[0;34m,\u001b[0m\u001b[0mpred\u001b[0m\u001b[0;34m)\u001b[0m\u001b[0;34m\u001b[0m\u001b[0;34m\u001b[0m\u001b[0m\n\u001b[0;32m----> 9\u001b[0;31m \u001b[0mplt\u001b[0m\u001b[0;34m.\u001b[0m\u001b[0mannotate\u001b[0m\u001b[0;34m(\u001b[0m\u001b[0;34m)\u001b[0m\u001b[0;34m\u001b[0m\u001b[0;34m\u001b[0m\u001b[0m\n\u001b[0m",
            "\u001b[0;31mTypeError\u001b[0m: annotate() missing 2 required positional arguments: 's' and 'xy'"
          ]
        },
        {
          "output_type": "display_data",
          "data": {
            "text/plain": [
              "<Figure size 432x288 with 1 Axes>"
            ],
            "image/png": "[encoded data removed]"
          },
          "metadata": {
            "needs_background": "light"
          }
        }
      ]
    },
    {
      "cell_type": "code",
      "source": [
        "from scipy import stats\n",
        "m,c,r,p,std_err=stats.linregress(x,y)\n",
        "print(r)\n",
        "print(m)\n",
        "print(c)"
      ],
      "metadata": {
        "colab": {
          "base_uri": "https://localhost:8080/"
        },
        "id": "x7Z0967BXNYg",
        "outputId": "531536ba-c1c3-4c1e-e393-cd84954b4240"
      },
      "execution_count": null,
      "outputs": [
        {
          "output_type": "stream",
          "name": "stdout",
          "text": [
            "0.025422998487982466\n",
            "0.17857142857142858\n",
            "94.10714285714286\n"
          ]
        }
      ]
    },
    {
      "cell_type": "code",
      "source": [
        "print(reg.predict(X))"
      ],
      "metadata": {
        "colab": {
          "base_uri": "https://localhost:8080/"
        },
        "id": "JN__AdkTX3eI",
        "outputId": "823d7f22-e810-4e71-c27f-1e71c23a90fe"
      },
      "execution_count": null,
      "outputs": [
        {
          "output_type": "stream",
          "name": "stdout",
          "text": [
            "[[ 95.89285714]\n",
            " [ 96.78571429]\n",
            " [ 97.67857143]\n",
            " [ 98.57142857]\n",
            " [ 99.46428571]\n",
            " [100.35714286]\n",
            " [101.25      ]]\n"
          ]
        }
      ]
    },
    {
      "cell_type": "code",
      "source": [
        "help(plt.scatter)"
      ],
      "metadata": {
        "colab": {
          "base_uri": "https://localhost:8080/"
        },
        "id": "XSPcY421Yj_z",
        "outputId": "9920912a-f617-4c60-8c5f-e7fca4fce0fa"
      },
      "execution_count": null,
      "outputs": [
        {
          "output_type": "stream",
          "name": "stdout",
          "text": [
            "Help on function scatter in module matplotlib.pyplot:\n",
            "\n",
            "scatter(x, y, s=None, c=None, marker=None, cmap=None, norm=None, vmin=None, vmax=None, alpha=None, linewidths=None, verts=<deprecated parameter>, edgecolors=None, *, plotnonfinite=False, data=None, **kwargs)\n",
            "    A scatter plot of *y* vs. *x* with varying marker size and/or color.\n",
            "    \n",
            "    Parameters\n",
            "    ----------\n",
            "    x, y : scalar or array-like, shape (n, )\n",
            "        The data positions.\n",
            "    \n",
            "    s : scalar or array-like, shape (n, ), optional\n",
            "        The marker size in points**2.\n",
            "        Default is ``rcParams['lines.markersize'] ** 2``.\n",
            "    \n",
            "    c : array-like or list of colors or color, optional\n",
            "        The marker colors. Possible values:\n",
            "    \n",
            "        - A scalar or sequence of n numbers to be mapped to colors using\n",
            "          *cmap* and *norm*.\n",
            "        - A 2-D array in which the rows are RGB or RGBA.\n",
            "        - A sequence of colors of length n.\n",
            "        - A single color format string.\n",
            "    \n",
            "        Note that *c* should not be a single numeric RGB or RGBA sequence\n",
            "        because that is indistinguishable from an array of values to be\n",
            "        colormapped. If you want to specify the same RGB or RGBA value for\n",
            "        all points, use a 2-D array with a single row.  Otherwise, value-\n",
            "        matching will have precedence in case of a size matching with *x*\n",
            "        and *y*.\n",
            "    \n",
            "        If you wish to specify a single color for all points\n",
            "        prefer the *color* keyword argument.\n",
            "    \n",
            "        Defaults to `None`. In that case the marker color is determined\n",
            "        by the value of *color*, *facecolor* or *facecolors*. In case\n",
            "        those are not specified or `None`, the marker color is determined\n",
            "        by the next color of the ``Axes``' current \"shape and fill\" color\n",
            "        cycle. This cycle defaults to :rc:`axes.prop_cycle`.\n",
            "    \n",
            "    marker : `~matplotlib.markers.MarkerStyle`, optional\n",
            "        The marker style. *marker* can be either an instance of the class\n",
            "        or the text shorthand for a particular marker.\n",
            "        Defaults to ``None``, in which case it takes the value of\n",
            "        :rc:`scatter.marker` = 'o'.\n",
            "        See `~matplotlib.markers` for more information about marker styles.\n",
            "    \n",
            "    cmap : `~matplotlib.colors.Colormap`, optional, default: None\n",
            "        A `.Colormap` instance or registered colormap name. *cmap* is only\n",
            "        used if *c* is an array of floats. If ``None``, defaults to rc\n",
            "        ``image.cmap``.\n",
            "    \n",
            "    norm : `~matplotlib.colors.Normalize`, optional, default: None\n",
            "        A `.Normalize` instance is used to scale luminance data to 0, 1.\n",
            "        *norm* is only used if *c* is an array of floats. If *None*, use\n",
            "        the default `.colors.Normalize`.\n",
            "    \n",
            "    vmin, vmax : scalar, optional, default: None\n",
            "        *vmin* and *vmax* are used in conjunction with *norm* to normalize\n",
            "        luminance data. If None, the respective min and max of the color\n",
            "        array is used. *vmin* and *vmax* are ignored if you pass a *norm*\n",
            "        instance.\n",
            "    \n",
            "    alpha : scalar, optional, default: None\n",
            "        The alpha blending value, between 0 (transparent) and 1 (opaque).\n",
            "    \n",
            "    linewidths : scalar or array-like, optional, default: None\n",
            "        The linewidth of the marker edges. Note: The default *edgecolors*\n",
            "        is 'face'. You may want to change this as well.\n",
            "        If *None*, defaults to :rc:`lines.linewidth`.\n",
            "    \n",
            "    edgecolors : {'face', 'none', *None*} or color or sequence of color, optional.\n",
            "        The edge color of the marker. Possible values:\n",
            "    \n",
            "        - 'face': The edge color will always be the same as the face color.\n",
            "        - 'none': No patch boundary will be drawn.\n",
            "        - A Matplotlib color or sequence of color.\n",
            "    \n",
            "        Defaults to ``None``, in which case it takes the value of\n",
            "        :rc:`scatter.edgecolors` = 'face'.\n",
            "    \n",
            "        For non-filled markers, the *edgecolors* kwarg is ignored and\n",
            "        forced to 'face' internally.\n",
            "    \n",
            "    plotnonfinite : boolean, optional, default: False\n",
            "        Set to plot points with nonfinite *c*, in conjunction with\n",
            "        `~matplotlib.colors.Colormap.set_bad`.\n",
            "    \n",
            "    Returns\n",
            "    -------\n",
            "    paths : `~matplotlib.collections.PathCollection`\n",
            "    \n",
            "    Other Parameters\n",
            "    ----------------\n",
            "    **kwargs : `~matplotlib.collections.Collection` properties\n",
            "    \n",
            "    See Also\n",
            "    --------\n",
            "    plot : To plot scatter plots when markers are identical in size and\n",
            "        color.\n",
            "    \n",
            "    Notes\n",
            "    -----\n",
            "    * The `.plot` function will be faster for scatterplots where markers\n",
            "      don't vary in size or color.\n",
            "    \n",
            "    * Any or all of *x*, *y*, *s*, and *c* may be masked arrays, in which\n",
            "      case all masks will be combined and only unmasked points will be\n",
            "      plotted.\n",
            "    \n",
            "    * Fundamentally, scatter works with 1-D arrays; *x*, *y*, *s*, and *c*\n",
            "      may be input as N-D arrays, but within scatter they will be\n",
            "      flattened. The exception is *c*, which will be flattened only if its\n",
            "      size matches the size of *x* and *y*.\n",
            "    \n",
            "    .. note::\n",
            "        In addition to the above described arguments, this function can take a\n",
            "        **data** keyword argument. If such a **data** argument is given, the\n",
            "        following arguments are replaced by **data[<arg>]**:\n",
            "    \n",
            "        * All arguments with the following names: 'c', 'color', 'edgecolors', 'facecolor', 'facecolors', 'linewidths', 's', 'x', 'y'.\n",
            "    \n",
            "        Objects passed as **data** must support item access (``data[<arg>]``) and\n",
            "        membership test (``<arg> in data``).\n",
            "\n"
          ]
        }
      ]
    }
  ]
}